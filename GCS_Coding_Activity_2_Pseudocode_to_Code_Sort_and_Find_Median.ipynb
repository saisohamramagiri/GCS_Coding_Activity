{
  "nbformat": 4,
  "nbformat_minor": 0,
  "metadata": {
    "colab": {
      "provenance": []
    },
    "kernelspec": {
      "name": "python3",
      "display_name": "Python 3"
    },
    "language_info": {
      "name": "python"
    }
  },
  "cells": [
    {
      "cell_type": "code",
      "execution_count": 10,
      "metadata": {
        "id": "h4eFgTBRbdr8"
      },
      "outputs": [],
      "source": [
        "def selection_sort(numbers):\n",
        "    # sort(numbers)\n",
        "    n = len(numbers)\n",
        "    for i in range(n):\n",
        "        min_index = i\n",
        "        for j in range(i + 1, n):\n",
        "            if numbers[j] < numbers[min_index]:\n",
        "                min_index = j\n",
        "        numbers[i], numbers[min_index] = numbers[min_index], numbers[i]\n",
        "        # swapping the array elements accordingly"
      ]
    },
    {
      "cell_type": "code",
      "source": [
        "def sort_and_find_median(numbers):\n",
        "    selection_sort(numbers)\n",
        "    n = len(numbers)\n",
        "    if n % 2 == 0:      # n is even\n",
        "        return (numbers[n//2 - 1] + numbers[n//2]) / 2\n",
        "    else:               # n is odd\n",
        "        return numbers[n//2]\n",
        "\n",
        "'''Given Pseudocode:\n",
        "FUNCTION sortAndFindMedian(numbers)\n",
        "CALL sort(numbers)\n",
        "DEFINE n AS length of numbers\n",
        "IF n MOD 2 = 0\n",
        "RETURN (numbers[n/2 - 1] + numbers[n/2 ) / 2\n",
        "ELSE\n",
        "RETURN numbers[n/2]\n",
        "ENDIF\n",
        "ENDFUNCTION\n",
        "'''"
      ],
      "metadata": {
        "colab": {
          "base_uri": "https://localhost:8080/",
          "height": 53
        },
        "id": "USksA38XbyU-",
        "outputId": "15286f55-fc96-4dfa-8a52-b089f9dd1174"
      },
      "execution_count": 11,
      "outputs": [
        {
          "output_type": "execute_result",
          "data": {
            "text/plain": [
              "'Given Pseudocode: \\nFUNCTION sortAndFindMedian(numbers)\\nCALL sort(numbers)\\nDEFINE n AS length of numbers\\nIF n MOD 2 = 0\\nRETURN (numbers[n/2 - 1] + numbers[n/2 ) / 2\\nELSE\\nRETURN numbers[n/2]\\nENDIF\\nENDFUNCTION\\n'"
            ],
            "application/vnd.google.colaboratory.intrinsic+json": {
              "type": "string"
            }
          },
          "metadata": {},
          "execution_count": 11
        }
      ]
    },
    {
      "cell_type": "code",
      "source": [
        "# UI for Testing Application\n",
        "def user_interface():\n",
        "    input_numbers_list = input(\"Please enter a list of numbers separated by commas: \")\n",
        "    numbers = list(map(float, input_numbers_list.split(',')))\n",
        "\n",
        "    result = sort_and_find_median(numbers)\n",
        "    print(\"Sorted Numbers:\", numbers)\n",
        "    print(\"Median:\", result)"
      ],
      "metadata": {
        "id": "ontk2tMGcNpS"
      },
      "execution_count": 12,
      "outputs": []
    },
    {
      "cell_type": "code",
      "source": [
        "if __name__ == \"__main__\":\n",
        "  user_interface()"
      ],
      "metadata": {
        "colab": {
          "base_uri": "https://localhost:8080/"
        },
        "id": "m77WlqDDcb8e",
        "outputId": "8ab328bf-955d-4fa7-8b8d-b89017126572"
      },
      "execution_count": 13,
      "outputs": [
        {
          "output_type": "stream",
          "name": "stdout",
          "text": [
            "Please enter a list of numbers separated by commas: 1, 3, 0, 15, 2, 19, 10\n",
            "Sorted Numbers: [0.0, 1.0, 2.0, 3.0, 10.0, 15.0, 19.0]\n",
            "Median: 3.0\n"
          ]
        }
      ]
    }
  ]
}